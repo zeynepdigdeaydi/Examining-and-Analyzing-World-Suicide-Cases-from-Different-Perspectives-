{
 "cells": [
  {
   "cell_type": "code",
   "execution_count": 91,
   "id": "54dc9a67",
   "metadata": {},
   "outputs": [],
   "source": [
    "import pandas as pd\n",
    "import numpy as np\n",
    "import seaborn as sea\n",
    "import matplotlib.pyplot as plt\n",
    "import matplotlib.image as mpimg\n",
    "from sklearn.linear_model import LinearRegression\n",
    "from sklearn.preprocessing import PolynomialFeatures\n",
    "from sklearn.model_selection import train_test_split\n",
    "from scipy import stats"
   ]
  },
  {
   "cell_type": "code",
   "execution_count": 92,
   "id": "d6558c63",
   "metadata": {},
   "outputs": [],
   "source": [
    "data = pd.read_csv(\"../Documents/Mmaster.csv.csv\")"
   ]
  },
  {
   "cell_type": "code",
   "execution_count": 93,
   "id": "63b2c091",
   "metadata": {},
   "outputs": [
    {
     "data": {
      "text/html": [
       "<div>\n",
       "<style scoped>\n",
       "    .dataframe tbody tr th:only-of-type {\n",
       "        vertical-align: middle;\n",
       "    }\n",
       "\n",
       "    .dataframe tbody tr th {\n",
       "        vertical-align: top;\n",
       "    }\n",
       "\n",
       "    .dataframe thead th {\n",
       "        text-align: right;\n",
       "    }\n",
       "</style>\n",
       "<table border=\"1\" class=\"dataframe\">\n",
       "  <thead>\n",
       "    <tr style=\"text-align: right;\">\n",
       "      <th></th>\n",
       "      <th>country</th>\n",
       "      <th>year</th>\n",
       "      <th>sex</th>\n",
       "      <th>age</th>\n",
       "      <th>suicides_no</th>\n",
       "      <th>population</th>\n",
       "      <th>suicides/100k pop</th>\n",
       "      <th>country-year</th>\n",
       "      <th>HDI for year</th>\n",
       "      <th>gdp_for_year ($)</th>\n",
       "      <th>gdp_per_capita ($)</th>\n",
       "      <th>generation</th>\n",
       "    </tr>\n",
       "  </thead>\n",
       "  <tbody>\n",
       "    <tr>\n",
       "      <th>0</th>\n",
       "      <td>Albania</td>\n",
       "      <td>1987</td>\n",
       "      <td>male</td>\n",
       "      <td>15-24 years</td>\n",
       "      <td>21</td>\n",
       "      <td>312900</td>\n",
       "      <td>671</td>\n",
       "      <td>Albania1987</td>\n",
       "      <td>NaN</td>\n",
       "      <td>2,156,624,900</td>\n",
       "      <td>796</td>\n",
       "      <td>Generation X</td>\n",
       "    </tr>\n",
       "    <tr>\n",
       "      <th>1</th>\n",
       "      <td>Albania</td>\n",
       "      <td>1987</td>\n",
       "      <td>female</td>\n",
       "      <td>15-24 years</td>\n",
       "      <td>14</td>\n",
       "      <td>289700</td>\n",
       "      <td>483</td>\n",
       "      <td>Albania1987</td>\n",
       "      <td>NaN</td>\n",
       "      <td>2,156,624,900</td>\n",
       "      <td>796</td>\n",
       "      <td>Generation X</td>\n",
       "    </tr>\n",
       "    <tr>\n",
       "      <th>2</th>\n",
       "      <td>Albania</td>\n",
       "      <td>1988</td>\n",
       "      <td>male</td>\n",
       "      <td>15-24 years</td>\n",
       "      <td>17</td>\n",
       "      <td>319200</td>\n",
       "      <td>533</td>\n",
       "      <td>Albania1988</td>\n",
       "      <td>NaN</td>\n",
       "      <td>2,126,000,000</td>\n",
       "      <td>769</td>\n",
       "      <td>Generation X</td>\n",
       "    </tr>\n",
       "    <tr>\n",
       "      <th>3</th>\n",
       "      <td>Albania</td>\n",
       "      <td>1988</td>\n",
       "      <td>female</td>\n",
       "      <td>15-24 years</td>\n",
       "      <td>8</td>\n",
       "      <td>295600</td>\n",
       "      <td>271</td>\n",
       "      <td>Albania1988</td>\n",
       "      <td>NaN</td>\n",
       "      <td>2,126,000,000</td>\n",
       "      <td>769</td>\n",
       "      <td>Generation X</td>\n",
       "    </tr>\n",
       "    <tr>\n",
       "      <th>4</th>\n",
       "      <td>Albania</td>\n",
       "      <td>1989</td>\n",
       "      <td>male</td>\n",
       "      <td>15-24 years</td>\n",
       "      <td>12</td>\n",
       "      <td>323500</td>\n",
       "      <td>371</td>\n",
       "      <td>Albania1989</td>\n",
       "      <td>NaN</td>\n",
       "      <td>2,335,124,988</td>\n",
       "      <td>833</td>\n",
       "      <td>Generation X</td>\n",
       "    </tr>\n",
       "  </tbody>\n",
       "</table>\n",
       "</div>"
      ],
      "text/plain": [
       "   country  year     sex          age  suicides_no  population  \\\n",
       "0  Albania  1987    male  15-24 years           21      312900   \n",
       "1  Albania  1987  female  15-24 years           14      289700   \n",
       "2  Albania  1988    male  15-24 years           17      319200   \n",
       "3  Albania  1988  female  15-24 years            8      295600   \n",
       "4  Albania  1989    male  15-24 years           12      323500   \n",
       "\n",
       "   suicides/100k pop country-year  HDI for year  gdp_for_year ($)   \\\n",
       "0                671  Albania1987           NaN      2,156,624,900   \n",
       "1                483  Albania1987           NaN      2,156,624,900   \n",
       "2                533  Albania1988           NaN      2,126,000,000   \n",
       "3                271  Albania1988           NaN      2,126,000,000   \n",
       "4                371  Albania1989           NaN      2,335,124,988   \n",
       "\n",
       "   gdp_per_capita ($)    generation  \n",
       "0                 796  Generation X  \n",
       "1                 796  Generation X  \n",
       "2                 769  Generation X  \n",
       "3                 769  Generation X  \n",
       "4                 833  Generation X  "
      ]
     },
     "execution_count": 93,
     "metadata": {},
     "output_type": "execute_result"
    }
   ],
   "source": [
    "data.head()"
   ]
  },
  {
   "cell_type": "code",
   "execution_count": 94,
   "id": "57da6e13",
   "metadata": {},
   "outputs": [
    {
     "data": {
      "text/plain": [
       "country               False\n",
       "year                  False\n",
       "sex                   False\n",
       "age                   False\n",
       "suicides_no           False\n",
       "population            False\n",
       "suicides/100k pop     False\n",
       "country-year          False\n",
       "HDI for year           True\n",
       " gdp_for_year ($)     False\n",
       "gdp_per_capita ($)    False\n",
       "generation            False\n",
       "dtype: bool"
      ]
     },
     "execution_count": 94,
     "metadata": {},
     "output_type": "execute_result"
    }
   ],
   "source": [
    "data.isnull().any()\n",
    " \n"
   ]
  },
  {
   "cell_type": "code",
   "execution_count": 95,
   "id": "087593a3",
   "metadata": {},
   "outputs": [
    {
     "data": {
      "text/plain": [
       "True"
      ]
     },
     "execution_count": 95,
     "metadata": {},
     "output_type": "execute_result"
    }
   ],
   "source": [
    "data.isnull().values.any()"
   ]
  },
  {
   "cell_type": "code",
   "execution_count": 58,
   "id": "b39c449f",
   "metadata": {},
   "outputs": [
    {
     "data": {
      "text/plain": [
       "country                   0\n",
       "year                      0\n",
       "sex                       0\n",
       "age                       0\n",
       "suicides_no               0\n",
       "population                0\n",
       "suicides/100k pop         0\n",
       "country-year              0\n",
       "HDI for year          19456\n",
       " gdp_for_year ($)         0\n",
       "gdp_per_capita ($)        0\n",
       "generation                0\n",
       "dtype: int64"
      ]
     },
     "execution_count": 58,
     "metadata": {},
     "output_type": "execute_result"
    }
   ],
   "source": [
    "data.isnull().sum()"
   ]
  },
  {
   "cell_type": "code",
   "execution_count": 96,
   "id": "361b89db",
   "metadata": {},
   "outputs": [],
   "source": [
    "data=data.drop(['HDI for year'],axis=1)"
   ]
  },
  {
   "cell_type": "code",
   "execution_count": 60,
   "id": "55d7cafb",
   "metadata": {},
   "outputs": [
    {
     "data": {
      "text/plain": [
       "year\n",
       "1985    116063\n",
       "1986    120670\n",
       "1987    126842\n",
       "1988    121026\n",
       "1989    160244\n",
       "1990    193361\n",
       "1991    198020\n",
       "1992    211473\n",
       "1993    221565\n",
       "1994    232063\n",
       "1995    243544\n",
       "1996    246725\n",
       "1997    240745\n",
       "1998    249591\n",
       "1999    256119\n",
       "2000    255832\n",
       "2001    250652\n",
       "2002    256095\n",
       "2003    256079\n",
       "2004    240861\n",
       "2005    234375\n",
       "2006    233361\n",
       "2007    233408\n",
       "2008    235447\n",
       "2009    243487\n",
       "2010    238702\n",
       "2011    236484\n",
       "2012    230160\n",
       "2013    223199\n",
       "2014    222984\n",
       "2015    203640\n",
       "2016     15603\n",
       "Name: suicides_no, dtype: int64"
      ]
     },
     "execution_count": 60,
     "metadata": {},
     "output_type": "execute_result"
    }
   ],
   "source": [
    "data['suicides_no']\n",
    "data = data.groupby('year').sum()\n",
    "data['suicides_no']"
   ]
  },
  {
   "cell_type": "code",
   "execution_count": 61,
   "id": "4f19be1c",
   "metadata": {},
   "outputs": [
    {
     "data": {
      "text/html": [
       "<div>\n",
       "<style scoped>\n",
       "    .dataframe tbody tr th:only-of-type {\n",
       "        vertical-align: middle;\n",
       "    }\n",
       "\n",
       "    .dataframe tbody tr th {\n",
       "        vertical-align: top;\n",
       "    }\n",
       "\n",
       "    .dataframe thead th {\n",
       "        text-align: right;\n",
       "    }\n",
       "</style>\n",
       "<table border=\"1\" class=\"dataframe\">\n",
       "  <thead>\n",
       "    <tr style=\"text-align: right;\">\n",
       "      <th></th>\n",
       "      <th>suicides_no</th>\n",
       "      <th>population</th>\n",
       "      <th>suicides/100k pop</th>\n",
       "      <th>gdp_per_capita ($)</th>\n",
       "    </tr>\n",
       "  </thead>\n",
       "  <tbody>\n",
       "    <tr>\n",
       "      <th>count</th>\n",
       "      <td>32.000000</td>\n",
       "      <td>3.200000e+01</td>\n",
       "      <td>3.200000e+01</td>\n",
       "      <td>3.200000e+01</td>\n",
       "    </tr>\n",
       "    <tr>\n",
       "      <th>mean</th>\n",
       "      <td>210888.125000</td>\n",
       "      <td>1.603817e+09</td>\n",
       "      <td>1.012240e+06</td>\n",
       "      <td>1.466328e+07</td>\n",
       "    </tr>\n",
       "    <tr>\n",
       "      <th>std</th>\n",
       "      <td>55287.550729</td>\n",
       "      <td>3.930311e+08</td>\n",
       "      <td>2.618420e+05</td>\n",
       "      <td>7.946581e+06</td>\n",
       "    </tr>\n",
       "    <tr>\n",
       "      <th>min</th>\n",
       "      <td>15603.000000</td>\n",
       "      <td>1.321019e+08</td>\n",
       "      <td>2.004470e+05</td>\n",
       "      <td>3.508548e+06</td>\n",
       "    </tr>\n",
       "    <tr>\n",
       "      <th>25%</th>\n",
       "      <td>202235.000000</td>\n",
       "      <td>1.520310e+09</td>\n",
       "      <td>9.373738e+05</td>\n",
       "      <td>8.091948e+06</td>\n",
       "    </tr>\n",
       "    <tr>\n",
       "      <th>50%</th>\n",
       "      <td>233384.500000</td>\n",
       "      <td>1.740078e+09</td>\n",
       "      <td>1.051207e+06</td>\n",
       "      <td>1.272938e+07</td>\n",
       "    </tr>\n",
       "    <tr>\n",
       "      <th>75%</th>\n",
       "      <td>243501.250000</td>\n",
       "      <td>1.845573e+09</td>\n",
       "      <td>1.216423e+06</td>\n",
       "      <td>2.220915e+07</td>\n",
       "    </tr>\n",
       "    <tr>\n",
       "      <th>max</th>\n",
       "      <td>256119.000000</td>\n",
       "      <td>1.997297e+09</td>\n",
       "      <td>1.331494e+06</td>\n",
       "      <td>2.693621e+07</td>\n",
       "    </tr>\n",
       "  </tbody>\n",
       "</table>\n",
       "</div>"
      ],
      "text/plain": [
       "         suicides_no    population  suicides/100k pop  gdp_per_capita ($)\n",
       "count      32.000000  3.200000e+01       3.200000e+01        3.200000e+01\n",
       "mean   210888.125000  1.603817e+09       1.012240e+06        1.466328e+07\n",
       "std     55287.550729  3.930311e+08       2.618420e+05        7.946581e+06\n",
       "min     15603.000000  1.321019e+08       2.004470e+05        3.508548e+06\n",
       "25%    202235.000000  1.520310e+09       9.373738e+05        8.091948e+06\n",
       "50%    233384.500000  1.740078e+09       1.051207e+06        1.272938e+07\n",
       "75%    243501.250000  1.845573e+09       1.216423e+06        2.220915e+07\n",
       "max    256119.000000  1.997297e+09       1.331494e+06        2.693621e+07"
      ]
     },
     "execution_count": 61,
     "metadata": {},
     "output_type": "execute_result"
    }
   ],
   "source": [
    "data[['suicides_no','population','suicides/100k pop','gdp_per_capita ($)']].describe()"
   ]
  },
  {
   "cell_type": "code",
   "execution_count": 62,
   "id": "96648db7",
   "metadata": {},
   "outputs": [
    {
     "data": {
      "text/plain": [
       "Text(0.5, 0, 'Year')"
      ]
     },
     "execution_count": 62,
     "metadata": {},
     "output_type": "execute_result"
    },
    {
     "data": {
      "image/png": "[encoded data removed]",
      "text/plain": [
       "<Figure size 432x288 with 1 Axes>"
      ]
     },
     "metadata": {
      "needs_background": "light"
     },
     "output_type": "display_data"
    }
   ],
   "source": [
    "#Total suicides, with average line\n",
    "data['suicides_no'].plot()\n",
    "plt.title('Total No. of Suicides per Year: 1985 To 2015', fontsize = 26)\n",
    "plt.axhline(y=52720, color='black', linestyle='--')\n",
    "plt.ylabel('No. Suicides', fontsize = 18)\n",
    "plt.xlabel('Year', fontsize = 18)          \n"
   ]
  },
  {
   "cell_type": "code",
   "execution_count": 64,
   "id": "adfbf92d",
   "metadata": {},
   "outputs": [],
   "source": [
    "asia = ['Armenia','Bahrain','Israel','Japan','Kazakhstan','Kuwait','Kyrgyzstan','Macau','Maldives','Oman','Philippines','Qatar','Republic of Korea',\n",
    "      'Singapore', 'Sri Lanka','Thailand','Turkmenistan', 'United Arab Emirates' ,'Uzbekistan']\n",
    "africa = ['Cabo Verde','Mauritius', 'Seychelles', 'South Africa']\n",
    "europe = ['Albania','Austria','Azerbaijan','Belarus','Belgium','Bosnia and Herzegovina','Bulgaria','Croatia', 'Cyprus',\n",
    "     'Czech Republic','Denmark','Estonia','France','Finland','Georgia','Germany', 'Greece','Hungary','Iceland', 'Ireland','Italy',\n",
    "     'Latvia','Lithuania','Luxembourg','Malta', 'Montenegro', 'Netherlands','Norway', 'Poland', 'Portugal','Romania','Russian Federation',\n",
    "     'San Marino', 'Serbia','Slovakia', 'Slovenia','Spain','Sweden', 'Switzerland','Turkey','Ukraine', 'United Kingdom' ]\n",
    "northamerica = ['Antigua and Barbuda','Bahamas','Barbados','Belize','Canada','Costa Rica','Cuba','Dominica','El Salvador',\n",
    "        'Grenada','Guatemala','Jamaica','Mexico','Nicaragua','Panama', 'Puerto Rico','Saint Kitts and Nevis','Saint Lucia', 'Saint Vincent and Grenadines',\n",
    "         'United States']\n",
    "southamerica = ['Argentina','Aruba','Brazil','Chile','Colombia','Ecuador','Guyana','Paraguay','Suriname','Trinidad and Tobago', 'Uruguay']\n",
    "australiaoceania = ['Australia','Fiji','Kiribati','New Zealand']\n"
   ]
  },
  {
   "cell_type": "code",
   "execution_count": 65,
   "id": "0c17cfef",
   "metadata": {},
   "outputs": [
    {
     "name": "stdout",
     "output_type": "stream",
     "text": [
      "Number of Asian in our dataset are : 19\n",
      "Number of AustraliaOceania in our dataset are : 4\n",
      "Number of NorthAmerican in our dataset are : 20\n",
      "Number of SouthAmerican in our dataset are : 11\n",
      "Number of European in our dataset are : 42\n",
      "Number of Africa in our dataset are : 4\n",
      "Total number of countries in our dataset are : 100\n"
     ]
    }
   ],
   "source": [
    "print(f'Number of Asian in our dataset are : {len(asia)}')\n",
    "print(f'Number of AustraliaOceania in our dataset are : {len(australiaoceania)}')\n",
    "print(f'Number of NorthAmerican in our dataset are : {len(northamerica)}')\n",
    "print(f'Number of SouthAmerican in our dataset are : {len(southamerica)}')\n",
    "print(f'Number of European in our dataset are : {len(europe)}')\n",
    "print(f'Number of Africa in our dataset are : {len(africa)}')\n",
    "print(f'Total number of countries in our dataset are : {len(asia)+len(africa)+len(europe)+len(southamerica)+len(northamerica)+len(australiaoceania)}')"
   ]
  },
  {
   "cell_type": "code",
   "execution_count": 66,
   "id": "aa962576",
   "metadata": {},
   "outputs": [
    {
     "data": {
      "image/png": "[encoded data removed]",
      "text/plain": [
       "<Figure size 720x504 with 1 Axes>"
      ]
     },
     "metadata": {},
     "output_type": "display_data"
    }
   ],
   "source": [
    "# Creating dataset\n",
    "continents = ['asia ', 'australiaoceania ', 'northamerica', 'southamerica', 'europe', 'africa']\n",
    "data = [19, 4, 20, 11, 42, 4]\n",
    "  # Creating explode data\n",
    "explode = (0.1, 0.0, 0.2, 0.3, 0.0, 0.0)\n",
    "# Creating color parameters\n",
    "colors = ( \"#FF0099\", \"#9966CC\", \"#0066CC\",\"#3333FF\", \"#33FF99\", \"#00FFCC\")\n",
    "# Wedge properties\n",
    "wp = { 'linewidth' : 1, 'edgecolor' : \"green\" }  \n",
    "# Creating autocpt arguments\n",
    "def func(pct, allvalues):\n",
    "    absolute = int(pct / 100.*np.sum(allvalues))\n",
    "    return \"{:.1f}%\\n({:d})\".format(pct, absolute)  \n",
    "# Creating plot\n",
    "fig, ax = plt.subplots(figsize =(10, 7))\n",
    "wedges, texts, autotexts = ax.pie(data,autopct = lambda pct: func(pct, data),\n",
    "          explode = explode,labels = continents,shadow = True,colors = colors,startangle = 90,wedgeprops = wp,textprops = dict(color =\"black\"))\n",
    "  \n",
    "# Adding legend\n",
    "ax.legend(wedges, continents,title =\"Continents\",loc =\"center left\",bbox_to_anchor =(1, 0, 0.5, 1))  \n",
    "plt.setp(autotexts, size = 10, weight =\"bold\")\n",
    "ax.set_title(\"Continent distribution\",fontsize=20) \n",
    "# show plot\n",
    "plt.show()"
   ]
  },
  {
   "cell_type": "code",
   "execution_count": null,
   "id": "b740abe8",
   "metadata": {},
   "outputs": [],
   "source": []
  }
 ],
 "metadata": {
  "kernelspec": {
   "display_name": "Python 3 (ipykernel)",
   "language": "python",
   "name": "python3"
  },
  "language_info": {
   "codemirror_mode": {
    "name": "ipython",
    "version": 3
   },
   "file_extension": ".py",
   "mimetype": "text/x-python",
   "name": "python",
   "nbconvert_exporter": "python",
   "pygments_lexer": "ipython3",
   "version": "3.9.7"
  }
 },
 "nbformat": 4,
 "nbformat_minor": 5
}
